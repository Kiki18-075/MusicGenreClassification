{
  "nbformat": 4,
  "nbformat_minor": 0,
  "metadata": {
    "colab": {
      "name": "MusicGenreClassification.ipynb",
      "provenance": [],
      "toc_visible": true,
      "include_colab_link": true
    },
    "kernelspec": {
      "name": "python3",
      "display_name": "Python 3"
    },
    "language_info": {
      "name": "python"
    }
  },
  "cells": [
    {
      "cell_type": "markdown",
      "metadata": {
        "id": "view-in-github",
        "colab_type": "text"
      },
      "source": [
        "<a href=\"https://colab.research.google.com/github/Kiki18-075/MusicGenreClassification/blob/main/MusicGenreClassification.ipynb\" target=\"_parent\"><img src=\"https://colab.research.google.com/assets/colab-badge.svg\" alt=\"Open In Colab\"/></a>"
      ]
    },
    {
      "cell_type": "markdown",
      "metadata": {
        "id": "l35vzQSK1DhO"
      },
      "source": [
        "## **Singkronisasi ke Google Drive**\n",
        "Data yang digunakan pada program ini disimpan di google drive. untuk mengakses datanya perlu melakukan singkronisasi ke google drive terlebih dahulu"
      ]
    },
    {
      "cell_type": "code",
      "metadata": {
        "colab": {
          "base_uri": "https://localhost:8080/"
        },
        "id": "uj71UvQ6yMwL",
        "outputId": "57a5155e-4477-44f6-e974-f857c220cf75"
      },
      "source": [
        "from google.colab import drive\n",
        "drive.mount('/content/drive')"
      ],
      "execution_count": null,
      "outputs": [
        {
          "output_type": "stream",
          "text": [
            "Mounted at /content/drive\n"
          ],
          "name": "stdout"
        }
      ]
    },
    {
      "cell_type": "markdown",
      "metadata": {
        "id": "hffxlwdC1Cqm"
      },
      "source": [
        "## **Import Library**\n",
        "dalam program ini menggunakan beberapa library untuk mempermudah pekerjaan. library yang digunakan antara lain :\n",
        "1. Pandas\n",
        "2. Librosa\n",
        "3. Scikit-Learn\n",
        "4. numpy\n",
        "5. os\n",
        "6. glob"
      ]
    },
    {
      "cell_type": "code",
      "metadata": {
        "id": "B1NjcHoryk4a"
      },
      "source": [
        "import numpy as np\n",
        "import pandas as pd\n",
        "from sklearn.model_selection import train_test_split\n",
        "from sklearn.neighbors import KNeighborsClassifier\n",
        "from sklearn.metrics import confusion_matrix\n",
        "from sklearn.metrics import classification_report\n",
        "import os\n",
        "import glob\n",
        "import librosa\n",
        "import librosa.feature\n",
        "import librosa.display\n",
        "from csv import writer"
      ],
      "execution_count": null,
      "outputs": []
    },
    {
      "cell_type": "markdown",
      "metadata": {
        "id": "wAtq5SGN4NWi"
      },
      "source": [
        "## **Ekstraksi fitur**\n",
        "metode ekstraksi fitur yang digunakan dalam program ini adalah metode Mel Frequency Cesptral Coefficient (MFCC). dalam proses ekstraksi akan diambil nilai rata-rata dari proses ekstraksi sebanyak 26 nilai yang akan dijadikan fitur pada proses klasifikasi"
      ]
    },
    {
      "cell_type": "code",
      "metadata": {
        "id": "NasBNnod5Dhx"
      },
      "source": [
        "def mean_mfccs(x):\n",
        "    return [np.mean(feature) for feature in librosa.feature.mfcc(x, n_mfcc=13)]\n",
        "\n",
        "def parse_audio(x):\n",
        "    return x.flatten('F')[:x.shape[0]] "
      ],
      "execution_count": null,
      "outputs": []
    },
    {
      "cell_type": "code",
      "metadata": {
        "id": "OUw5-PCHzHas"
      },
      "source": [
        "def get_audios():    \n",
        "    samples = []\n",
        "    labels = []\n",
        "    names = ['blues','classical','country','disco','hiphop','jazz','metal', 'pop','reggae', 'rock']\n",
        "    \n",
        "    for name in names:\n",
        "        Music_folder = glob.glob('/content/drive/MyDrive/MusicGenreClassification/Data/'+name+'/*.wav')\n",
        "        print('memproses %d data pada folder %s ...'%(len(Music_folder),name))\n",
        "        for f in Music_folder:\n",
        "            x, sr = librosa.load(f)\n",
        "            x = parse_audio(x)\n",
        "            samples.append(mean_mfccs(x))\n",
        "            labels.append(name)\n",
        "    return np.array(samples),np.array(labels)"
      ],
      "execution_count": null,
      "outputs": []
    },
    {
      "cell_type": "code",
      "metadata": {
        "colab": {
          "base_uri": "https://localhost:8080/"
        },
        "id": "S_ymCNPh5Vgd",
        "outputId": "7b016ed3-01b3-43d6-8579-b5ac2f51fe3d"
      },
      "source": [
        "fitur, label= get_audios()"
      ],
      "execution_count": null,
      "outputs": [
        {
          "output_type": "stream",
          "text": [
            "memproses 100 data pada folder blues ...\n",
            "memproses 100 data pada folder classical ...\n",
            "memproses 100 data pada folder country ...\n",
            "memproses 100 data pada folder disco ...\n",
            "memproses 100 data pada folder hiphop ...\n",
            "memproses 100 data pada folder jazz ...\n",
            "memproses 100 data pada folder metal ...\n",
            "memproses 100 data pada folder pop ...\n",
            "memproses 100 data pada folder reggae ...\n",
            "memproses 100 data pada folder rock ...\n"
          ],
          "name": "stdout"
        }
      ]
    },
    {
      "cell_type": "markdown",
      "metadata": {
        "id": "lxBuU3vva_Io"
      },
      "source": [
        "## **Membuat Dataframe**\n",
        "untuk membuat dataframe kita menggunakan library pandas. pada program ini terdapat 2 dataframe yaitu dataframe fitur dan dataframe label."
      ]
    },
    {
      "cell_type": "code",
      "metadata": {
        "id": "XnQ9CWgSTHrt"
      },
      "source": [
        "dataframe_fitur = pd.DataFrame(fitur)\n",
        "dataframe_label = pd.DataFrame(label)"
      ],
      "execution_count": null,
      "outputs": []
    },
    {
      "cell_type": "markdown",
      "metadata": {
        "id": "BSoBc0uVeEbv"
      },
      "source": [
        "setelah membuat dataframe kita bisa langsung melakukan pengecekan missing value"
      ]
    },
    {
      "cell_type": "code",
      "metadata": {
        "colab": {
          "base_uri": "https://localhost:8080/"
        },
        "id": "sM8kCDxvdK2W",
        "outputId": "01bafd41-6d69-4443-eb41-5a5a8d041e74"
      },
      "source": [
        "dataframe_fitur.isna().sum()"
      ],
      "execution_count": null,
      "outputs": [
        {
          "output_type": "execute_result",
          "data": {
            "text/plain": [
              "0     0\n",
              "1     0\n",
              "2     0\n",
              "3     0\n",
              "4     0\n",
              "5     0\n",
              "6     0\n",
              "7     0\n",
              "8     0\n",
              "9     0\n",
              "10    0\n",
              "11    0\n",
              "12    0\n",
              "dtype: int64"
            ]
          },
          "metadata": {
            "tags": []
          },
          "execution_count": 119
        }
      ]
    },
    {
      "cell_type": "markdown",
      "metadata": {
        "id": "rkfdA0n8d5I0"
      },
      "source": [
        "dari nilai diatas dapat disimpulkan bahwa tidak ada missing value"
      ]
    },
    {
      "cell_type": "markdown",
      "metadata": {
        "id": "hHYNVtCvbXAR"
      },
      "source": [
        "## **Membagi Dataframe**\n",
        "pada proses ini kita membagi data menjadi 2 bagian yang digunakan sebagai data training dan data testing dengan perbandingan 8:2"
      ]
    },
    {
      "cell_type": "code",
      "metadata": {
        "id": "S-aqgNkqOuYY"
      },
      "source": [
        "X_train, X_test, y_train, y_test = train_test_split(dataframe_fitur, dataframe_label, test_size=0.2, random_state=42)"
      ],
      "execution_count": null,
      "outputs": []
    },
    {
      "cell_type": "markdown",
      "metadata": {
        "id": "v3nE3t_ZbzXR"
      },
      "source": [
        "## **Proses Klasifikasi**\n",
        "pada proses klasifikasi kita menggunakan metode K-Nearest Neighbor (KNN). \n",
        "\n",
        "proses pertama kita membuat fungsi untuk membuat model KNN yang dinamis untuk mencari nilai K yang optimal"
      ]
    },
    {
      "cell_type": "code",
      "metadata": {
        "id": "wpPlKpAxOzo3"
      },
      "source": [
        "def KNN(k):\n",
        "\n",
        "  knn = KNeighborsClassifier(n_neighbors = k)\n",
        "\n",
        "  knn.fit(X_train,y_train)\n",
        "\n",
        "  y_pred = knn.predict(X_test)\n",
        "  print('K = ', i)\n",
        "  print(classification_report(y_test,y_pred))\n"
      ],
      "execution_count": null,
      "outputs": []
    },
    {
      "cell_type": "markdown",
      "metadata": {
        "id": "lcjRbLpGcbFL"
      },
      "source": [
        "setelah membuat fungsi KNN kita melakukan uji performa dengan mencari nilai akurasi tertinggi dari nilai k ke-1 sampai nilai k ke-9"
      ]
    },
    {
      "cell_type": "code",
      "metadata": {
        "colab": {
          "base_uri": "https://localhost:8080/"
        },
        "id": "TeEQdP1cP1PZ",
        "outputId": "2f1d0bc9-da91-4bad-a76c-9ee16751852e"
      },
      "source": [
        "for i in range (10):\n",
        "  if ((i%2) != 0):\n",
        "    KNN(i)"
      ],
      "execution_count": null,
      "outputs": [
        {
          "output_type": "stream",
          "text": [
            "K =  1\n",
            "              precision    recall  f1-score   support\n",
            "\n",
            "       blues       0.67      0.60      0.63        20\n",
            "   classical       0.90      0.69      0.78        13\n",
            "     country       0.38      0.30      0.33        27\n",
            "       disco       0.42      0.48      0.44        21\n",
            "      hiphop       0.15      0.20      0.17        15\n",
            "        jazz       0.43      0.59      0.50        22\n",
            "       metal       0.76      0.64      0.70        25\n",
            "         pop       0.30      0.54      0.39        13\n",
            "      reggae       0.41      0.39      0.40        23\n",
            "        rock       0.27      0.14      0.19        21\n",
            "\n",
            "    accuracy                           0.45       200\n",
            "   macro avg       0.47      0.46      0.45       200\n",
            "weighted avg       0.47      0.45      0.45       200\n",
            "\n",
            "K =  3\n",
            "              precision    recall  f1-score   support\n",
            "\n",
            "       blues       0.45      0.70      0.55        20\n",
            "   classical       0.77      0.77      0.77        13\n",
            "     country       0.30      0.33      0.32        27\n",
            "       disco       0.42      0.52      0.47        21\n",
            "      hiphop       0.16      0.20      0.18        15\n",
            "        jazz       0.48      0.45      0.47        22\n",
            "       metal       0.76      0.64      0.70        25\n",
            "         pop       0.33      0.54      0.41        13\n",
            "      reggae       0.64      0.30      0.41        23\n",
            "        rock       0.14      0.05      0.07        21\n",
            "\n",
            "    accuracy                           0.44       200\n",
            "   macro avg       0.45      0.45      0.43       200\n",
            "weighted avg       0.45      0.44      0.43       200\n",
            "\n",
            "K =  5\n",
            "              precision    recall  f1-score   support\n",
            "\n",
            "       blues       0.61      0.70      0.65        20\n",
            "   classical       0.85      0.85      0.85        13\n",
            "     country       0.45      0.56      0.50        27\n",
            "       disco       0.40      0.38      0.39        21\n",
            "      hiphop       0.10      0.13      0.11        15\n",
            "        jazz       0.45      0.45      0.45        22\n",
            "       metal       0.78      0.72      0.75        25\n",
            "         pop       0.39      0.69      0.50        13\n",
            "      reggae       0.47      0.30      0.37        23\n",
            "        rock       0.12      0.05      0.07        21\n",
            "\n",
            "    accuracy                           0.48       200\n",
            "   macro avg       0.46      0.48      0.46       200\n",
            "weighted avg       0.47      0.47      0.46       200\n",
            "\n",
            "K =  7\n",
            "              precision    recall  f1-score   support\n",
            "\n",
            "       blues       0.61      0.70      0.65        20\n",
            "   classical       0.83      0.77      0.80        13\n",
            "     country       0.39      0.48      0.43        27\n",
            "       disco       0.48      0.52      0.50        21\n",
            "      hiphop       0.18      0.20      0.19        15\n",
            "        jazz       0.43      0.41      0.42        22\n",
            "       metal       0.73      0.64      0.68        25\n",
            "         pop       0.42      0.77      0.54        13\n",
            "      reggae       0.47      0.35      0.40        23\n",
            "        rock       0.25      0.10      0.14        21\n",
            "\n",
            "    accuracy                           0.48       200\n",
            "   macro avg       0.48      0.49      0.47       200\n",
            "weighted avg       0.48      0.48      0.47       200\n",
            "\n",
            "K =  9\n",
            "              precision    recall  f1-score   support\n",
            "\n",
            "       blues       0.74      0.70      0.72        20\n",
            "   classical       0.85      0.85      0.85        13\n",
            "     country       0.44      0.56      0.49        27\n",
            "       disco       0.33      0.33      0.33        21\n",
            "      hiphop       0.18      0.20      0.19        15\n",
            "        jazz       0.47      0.36      0.41        22\n",
            "       metal       0.82      0.72      0.77        25\n",
            "         pop       0.40      0.77      0.53        13\n",
            "      reggae       0.44      0.35      0.39        23\n",
            "        rock       0.29      0.19      0.23        21\n",
            "\n",
            "    accuracy                           0.49       200\n",
            "   macro avg       0.50      0.50      0.49       200\n",
            "weighted avg       0.50      0.49      0.49       200\n",
            "\n"
          ],
          "name": "stdout"
        },
        {
          "output_type": "stream",
          "text": [
            "/usr/local/lib/python3.7/dist-packages/ipykernel_launcher.py:6: DataConversionWarning: A column-vector y was passed when a 1d array was expected. Please change the shape of y to (n_samples, ), for example using ravel().\n",
            "  \n",
            "/usr/local/lib/python3.7/dist-packages/ipykernel_launcher.py:6: DataConversionWarning: A column-vector y was passed when a 1d array was expected. Please change the shape of y to (n_samples, ), for example using ravel().\n",
            "  \n",
            "/usr/local/lib/python3.7/dist-packages/ipykernel_launcher.py:6: DataConversionWarning: A column-vector y was passed when a 1d array was expected. Please change the shape of y to (n_samples, ), for example using ravel().\n",
            "  \n",
            "/usr/local/lib/python3.7/dist-packages/ipykernel_launcher.py:6: DataConversionWarning: A column-vector y was passed when a 1d array was expected. Please change the shape of y to (n_samples, ), for example using ravel().\n",
            "  \n",
            "/usr/local/lib/python3.7/dist-packages/ipykernel_launcher.py:6: DataConversionWarning: A column-vector y was passed when a 1d array was expected. Please change the shape of y to (n_samples, ), for example using ravel().\n",
            "  \n"
          ],
          "name": "stderr"
        }
      ]
    },
    {
      "cell_type": "markdown",
      "metadata": {
        "id": "_lPSdAXxeOlC"
      },
      "source": [
        "Nilai K Terbaik :\n",
        "## **K-9 dengan akurasi 49%**"
      ]
    }
  ]
}